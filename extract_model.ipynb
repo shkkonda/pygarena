{
  "nbformat": 4,
  "nbformat_minor": 0,
  "metadata": {
    "colab": {
      "name": "extract_model.ipynb",
      "provenance": [],
      "authorship_tag": "ABX9TyNZOqrBhXCnH5y5RzpmtUES",
      "include_colab_link": true
    },
    "kernelspec": {
      "name": "python3",
      "display_name": "Python 3"
    }
  },
  "cells": [
    {
      "cell_type": "markdown",
      "metadata": {
        "id": "view-in-github",
        "colab_type": "text"
      },
      "source": [
        "<a href=\"https://colab.research.google.com/github/shkkonda/pygarena/blob/main/extract_model.ipynb\" target=\"_parent\"><img src=\"https://colab.research.google.com/assets/colab-badge.svg\" alt=\"Open In Colab\"/></a>"
      ]
    },
    {
      "cell_type": "markdown",
      "metadata": {
        "id": "Oy5B39auC2hM"
      },
      "source": [
        "Import Packages"
      ]
    },
    {
      "cell_type": "code",
      "metadata": {
        "id": "8xEhKxjOrSlQ"
      },
      "source": [
        "import requests\r\n",
        "import re\r\n",
        "from bs4 import BeautifulSoup\r\n",
        "import json\r\n",
        "import pandas as pd"
      ],
      "execution_count": 1,
      "outputs": []
    },
    {
      "cell_type": "markdown",
      "metadata": {
        "id": "DdEpkqBCDN9u"
      },
      "source": [
        "List of URL"
      ]
    },
    {
      "cell_type": "code",
      "metadata": {
        "id": "ei3DwuqADR1x"
      },
      "source": [
        "phone_url = \"https://raw.githubusercontent.com/shkkonda/pygarena/main/phone_url_lo.txt\"\r\n",
        "response = requests.get(phone_url)\r\n",
        "left_over = json.loads(response.content)"
      ],
      "execution_count": 30,
      "outputs": []
    },
    {
      "cell_type": "markdown",
      "metadata": {
        "id": "xoyo70o4C8Uy"
      },
      "source": [
        "Extract Phone Name and Model ID from GSM Arena"
      ]
    },
    {
      "cell_type": "code",
      "metadata": {
        "id": "eJl13GgICMcN"
      },
      "source": [
        "model_id = []\r\n",
        "phone_desc = []\r\n",
        "for i in left_over:\r\n",
        "    page = requests.get('https://www.gsmarena.com/' + i)\r\n",
        "    soup = BeautifulSoup(page.content, 'html.parser')\r\n",
        "    model_tag = soup.find_all(attrs={\"data-spec\" : \"models\"})\r\n",
        "    title = soup.find('title').contents[0].split('-')[0].strip()\r\n",
        "    if title == 'Too Many Requests':\r\n",
        "        print('IP Blacklisted')\r\n",
        "        break\r\n",
        "    if len(model_tag) == 1:\r\n",
        "        model_id.append(model_tag[0].contents)\r\n",
        "    elif len(model_tag) > 1:\r\n",
        "        model_id.extend(['Check Manually'])\r\n",
        "    else:\r\n",
        "        model_id.extend(['None'])\r\n",
        "    phone_desc.append(title)\r\n",
        "    print(i)\r\n",
        "    # t = random.randint(10, 60)\r\n",
        "    # time.sleep(t)"
      ],
      "execution_count": null,
      "outputs": []
    },
    {
      "cell_type": "markdown",
      "metadata": {
        "id": "2OQweY9KDDQU"
      },
      "source": [
        "Write the data into a File"
      ]
    },
    {
      "cell_type": "code",
      "metadata": {
        "id": "ra9RCJQWCYh_"
      },
      "source": [
        "with open(\"phone_desc_4.txt\", \"w\") as fp:\r\n",
        "    json.dump(phone_desc, fp)\r\n",
        "with open(\"model_id_4.txt\", \"w\") as fp:\r\n",
        "    json.dump(model_id, fp)"
      ],
      "execution_count": null,
      "outputs": []
    }
  ]
}